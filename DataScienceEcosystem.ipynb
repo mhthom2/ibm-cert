{
 "cells": [
  {
   "cell_type": "markdown",
   "id": "174e3b90",
   "metadata": {},
   "source": [
    "# Data Science Tools and Ecosystem"
   ]
  },
  {
   "attachments": {},
   "cell_type": "markdown",
   "id": "e2fef064",
   "metadata": {},
   "source": [
    "In this notebook, Data Science Tools and Ecosystem are summarized."
   ]
  },
  {
   "cell_type": "markdown",
   "id": "ce9f687f",
   "metadata": {},
   "source": [
    "Objectives:\n",
    "* Create a Jupyter Notebook\n",
    "* Insert code and markdown cells\n",
    "* Share your notebook through GitHub"
   ]
  },
  {
   "cell_type": "markdown",
   "id": "18af3fd5",
   "metadata": {},
   "source": [
    "## Author\n",
    "Matthew Thomas"
   ]
  },
  {
   "cell_type": "markdown",
   "id": "8b816def",
   "metadata": {},
   "source": [
    "Some of the popular languages that Data Scientists use are:\n",
    "1. Python\n",
    "2. R\n",
    "3. Julia\n",
    "4. Scala\n",
    "5. Java"
   ]
  },
  {
   "cell_type": "markdown",
   "id": "17e6a603",
   "metadata": {},
   "source": [
    "Some of the commonly used libraries used by Data Scientists include:\n",
    "* pandas\n",
    "* NumPy\n",
    "* scikit-learn\n",
    "* matplotlib"
   ]
  },
  {
   "cell_type": "markdown",
   "id": "e0e843f4",
   "metadata": {},
   "source": [
    "| Data Science Tools |\n",
    "| ------------------ |\n",
    "| Anaconda |\n",
    "| Jupyter Notebook|\n",
    "| Spyder |\n",
    "| RStudio |"
   ]
  },
  {
   "cell_type": "markdown",
   "id": "ba3ca01b",
   "metadata": {},
   "source": [
    "### Below are a few examples of evaluating arithmetic expressions in Python"
   ]
  },
  {
   "cell_type": "code",
   "execution_count": 1,
   "id": "b8e3f2e3",
   "metadata": {},
   "outputs": [
    {
     "data": {
      "text/plain": [
       "17"
      ]
     },
     "execution_count": 1,
     "metadata": {},
     "output_type": "execute_result"
    }
   ],
   "source": [
    "# This a simple arithmetic expression to multiply then add integers\n",
    "(3*4)+5"
   ]
  },
  {
   "cell_type": "code",
   "execution_count": 4,
   "id": "3ef356cd",
   "metadata": {},
   "outputs": [
    {
     "name": "stdout",
     "output_type": "stream",
     "text": [
      "There are  3.3333  hours in  200  minutes.\n"
     ]
    }
   ],
   "source": [
    "# This will convert 200 minutes to hours by dividing by 60\n",
    "minutes = 200\n",
    "minutes_per_hour = 60 \n",
    "hours = round(minutes / minutes_per_hour, 4)\n",
    "print('There are ', hours, ' hours in ', minutes, ' minutes.')"
   ]
  },
  {
   "cell_type": "markdown",
   "id": "6f902810",
   "metadata": {},
   "source": []
  }
 ],
 "metadata": {
  "kernelspec": {
   "display_name": "Python 3 (ipykernel)",
   "language": "python",
   "name": "python3"
  },
  "language_info": {
   "codemirror_mode": {
    "name": "ipython",
    "version": 3
   },
   "file_extension": ".py",
   "mimetype": "text/x-python",
   "name": "python",
   "nbconvert_exporter": "python",
   "pygments_lexer": "ipython3",
   "version": "3.11.4"
  }
 },
 "nbformat": 4,
 "nbformat_minor": 5
}
